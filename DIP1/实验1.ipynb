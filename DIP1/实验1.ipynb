{
 "cells": [
  {
   "cell_type": "markdown",
   "source": [
    "# 数字图像处理实验1"
   ],
   "metadata": {}
  },
  {
   "cell_type": "markdown",
   "source": [
    "\r\n",
    "实验要求：\r\n",
    "- 利用letter.jpg中的字母和数字，生成一张图片\r\n",
    "- 图片中第一行是自己的学号，第2行是自己姓名的拼音（留学生可以是自己名字的英文拼写）\r\n",
    "- 要求编程实现，而不是手工处理\r\n",
    "\r\n",
    "思路：\r\n",
    "\r\n",
    "灰度图→二值化→边缘检测→手动标注生成字典\r\n",
    "最后按行按字符加入画布\r\n"
   ],
   "metadata": {}
  },
  {
   "cell_type": "code",
   "execution_count": null,
   "source": [
    "import cv2\r\n",
    "import numpy as np\r\n",
    "import matplotlib.pyplot as plt\r\n",
    "import pickle"
   ],
   "outputs": [],
   "metadata": {}
  },
  {
   "cell_type": "code",
   "execution_count": null,
   "source": [
    "img = cv2.imread('letter.jpg')\r\n",
    "img_gray = cv2.cvtColor(img, cv2.COLOR_BGR2GRAY) # 灰度图\r\n",
    "_, thresh = cv2.threshold(img_gray, 0, 255, cv2.THRESH_BINARY_INV + cv2.THRESH_OTSU) # 二值化"
   ],
   "outputs": [],
   "metadata": {}
  },
  {
   "cell_type": "code",
   "execution_count": null,
   "source": [
    "_, contours, _ = cv2.findContours(\r\n",
    "        thresh, cv2.RETR_CCOMP, cv2.CHAIN_APPROX_SIMPLE) # 边缘检测\r\n",
    "temp = img.copy()\r\n",
    "textcontourslist = []\r\n",
    "for c in contours:\r\n",
    "    area = cv2.contourArea(c)\r\n",
    "    if area>img.shape[0]*img.shape[1]/1000:\r\n",
    "        textcontourslist.append(c)\r\n",
    "        x,y,w,h = cv2.boundingRect(c)\r\n",
    "        cv2.rectangle(temp, (x, y), (x + w, y + h), (36,255,12), 3)"
   ],
   "outputs": [],
   "metadata": {}
  },
  {
   "cell_type": "code",
   "execution_count": null,
   "source": [
    "cv2.imwrite(\"cnt.png\",temp)"
   ],
   "outputs": [],
   "metadata": {}
  },
  {
   "cell_type": "code",
   "execution_count": null,
   "source": [
    "plt.imshow(temp[:,:,::-1])"
   ],
   "outputs": [],
   "metadata": {}
  },
  {
   "cell_type": "code",
   "execution_count": null,
   "source": [
    "# pkl_file = open('dip1text.pkl', 'rb')\r\n",
    "# textimagedict = pickle.load(pkl_file)"
   ],
   "outputs": [],
   "metadata": {}
  },
  {
   "cell_type": "code",
   "execution_count": null,
   "source": [
    "textimagedict={}\r\n",
    "for c in textcontourslist:\r\n",
    "    x,y,w,h = cv2.boundingRect(c)\r\n",
    "    cv2.imshow('img',img[y:y+h,x:x+w])\r\n",
    "    t = chr(cv2.waitKey(0))\r\n",
    "    print(t)\r\n",
    "    cv2.destroyAllWindows()\r\n",
    "    textimagedict[t]=img[y:y+h,x:x+w] "
   ],
   "outputs": [],
   "metadata": {}
  },
  {
   "cell_type": "code",
   "execution_count": null,
   "source": [
    "textimagedict"
   ],
   "outputs": [],
   "metadata": {}
  },
  {
   "cell_type": "code",
   "execution_count": null,
   "source": [
    "\r\n",
    "output =  open(\"dip1text.pkl\",'wb')\r\n",
    "pickle.dump(textimagedict, output)"
   ],
   "outputs": [],
   "metadata": {}
  },
  {
   "cell_type": "code",
   "execution_count": null,
   "source": [
    "textimagedict['q'].shape"
   ],
   "outputs": [],
   "metadata": {}
  },
  {
   "cell_type": "code",
   "execution_count": null,
   "source": [
    "line1 = 'hello'\r\n",
    "line2 = 'world'\r\n",
    "line3 = '20210909'\r\n",
    "lines = [line1,line2,line3]"
   ],
   "outputs": [],
   "metadata": {}
  },
  {
   "cell_type": "code",
   "execution_count": null,
   "source": [
    "dst = np.zeros((300,500,3), np.uint8)\r\n",
    "for i in range(0,dst.shape[0]):\r\n",
    "    for j in range(0,dst.shape[1]):\r\n",
    "        dst[i,j]=[211,223,229]"
   ],
   "outputs": [],
   "metadata": {}
  },
  {
   "cell_type": "code",
   "execution_count": null,
   "source": [
    "prows,pcols = 0,0\r\n",
    "for line in lines: # 逐行在画布上进行绘制\r\n",
    "    for c in line:\r\n",
    "        textimg = textimagedict[c]\r\n",
    "        rows,cols,_ = textimg.shape\r\n",
    "        dst[prows:rows+prows, pcols:cols+pcols ] = textimg\r\n",
    "        print(f\"rows:{rows},cols{cols},c:{c}\")\r\n",
    "        cv2.imshow('thresh',dst)\r\n",
    "        cv2.waitKey(0)\r\n",
    "        cv2.destroyAllWindows()\r\n",
    "        pcols = pcols+cols  # 画完一个字符向右移位\r\n",
    "    pcols = 0\r\n",
    "    prows += 70 # 画完一行向下移位"
   ],
   "outputs": [],
   "metadata": {}
  },
  {
   "cell_type": "code",
   "execution_count": null,
   "source": [
    "plt.imshow(dst[:,:,::-1])"
   ],
   "outputs": [],
   "metadata": {}
  },
  {
   "cell_type": "code",
   "execution_count": null,
   "source": [
    "cv2.imwrite(\"dip1.png\",dst)"
   ],
   "outputs": [],
   "metadata": {}
  }
 ],
 "metadata": {
  "orig_nbformat": 4,
  "language_info": {
   "name": "python",
   "version": "3.7.9",
   "mimetype": "text/x-python",
   "codemirror_mode": {
    "name": "ipython",
    "version": 3
   },
   "pygments_lexer": "ipython3",
   "nbconvert_exporter": "python",
   "file_extension": ".py"
  },
  "kernelspec": {
   "name": "python3",
   "display_name": "Python 3.7.9 64-bit ('learncv': conda)"
  },
  "interpreter": {
   "hash": "64ac3aac663417d7a3b0bc9dfcb8661b08674a94049c7cacd47f56e807801032"
  }
 },
 "nbformat": 4,
 "nbformat_minor": 2
}